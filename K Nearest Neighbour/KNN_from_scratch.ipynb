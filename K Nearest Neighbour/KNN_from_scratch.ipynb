{
 "cells": [
  {
   "cell_type": "code",
   "execution_count": 102,
   "id": "96131174-84b2-48b7-b7bd-e8387caecd75",
   "metadata": {},
   "outputs": [],
   "source": [
    "import numpy as np\n",
    "import pandas as pd\n",
    "from sklearn.model_selection import train_test_split \n",
    "from collections import Counter"
   ]
  },
  {
   "cell_type": "code",
   "execution_count": 103,
   "id": "4ac8137c-488b-49e6-a5a7-63f1af2bf800",
   "metadata": {},
   "outputs": [],
   "source": [
    "# Euclidian distance\n",
    "def distance(x1, x2):\n",
    "    return np.sqrt(np.sum((x1-x2)**2))"
   ]
  },
  {
   "cell_type": "code",
   "execution_count": 104,
   "id": "22b85efd-636c-4254-9c01-5731ff4a85e3",
   "metadata": {},
   "outputs": [],
   "source": [
    "# Initialize KNN \n",
    "def initialize(x_train, x_test, y_train):\n",
    "    k = int(np.sqrt(len(x_train)))\n",
    "    distances = []\n",
    "    \n",
    "    for i in range(len(x_train)):\n",
    "        dist = distance(x_train[i], x_test)\n",
    "        distances.append((dist, y_train[i]))\n",
    "\n",
    "    distances.sort()\n",
    "\n",
    "    k_labels = []\n",
    "    for i in range(k):\n",
    "        k_labels.append(distances[i][1])\n",
    "\n",
    "    most_common = Counter(k_labels).most_common(1)\n",
    "    return most_common[0][0]\n",
    "    "
   ]
  },
  {
   "cell_type": "code",
   "execution_count": 105,
   "id": "bebb0d17-a3e0-42c7-bca1-944a184cfd8f",
   "metadata": {},
   "outputs": [],
   "source": [
    "df = pd.read_csv('iphone_purchase_records.csv')"
   ]
  },
  {
   "cell_type": "code",
   "execution_count": 107,
   "id": "545f37f4-5127-41fa-83df-630a5fe2b49d",
   "metadata": {},
   "outputs": [],
   "source": [
    "X = df.drop(columns=['Purchase Iphone'])\n",
    "X['Gender'] = X['Gender'].apply(lambda x: -1 if x == 'Male' else 1)\n",
    "\n",
    "Y = df[['Purchase Iphone']]"
   ]
  },
  {
   "cell_type": "code",
   "execution_count": 133,
   "id": "004067ea-37c8-40ab-9c40-9898de67cd2a",
   "metadata": {},
   "outputs": [],
   "source": [
    "x_train, x_test, y_train, y_test = train_test_split(X, Y, test_size=0.33, random_state=30)"
   ]
  },
  {
   "cell_type": "code",
   "execution_count": 134,
   "id": "d120ef23-bbd8-44f5-b5e9-c198d4ddabd5",
   "metadata": {},
   "outputs": [],
   "source": [
    "x_train = x_train.to_numpy()\n",
    "x_test = x_test.to_numpy()\n",
    "y_train = y_train.to_numpy().ravel()\n",
    "y_test = y_test.to_numpy().ravel()"
   ]
  },
  {
   "cell_type": "code",
   "execution_count": 135,
   "id": "7613f4dc-eb47-44d7-803b-dd465362761b",
   "metadata": {},
   "outputs": [
    {
     "name": "stdout",
     "output_type": "stream",
     "text": [
      "0.7878787878787878\n"
     ]
    }
   ],
   "source": [
    "correct = 0\n",
    "total = 0\n",
    "for i in range(len(x_test)):\n",
    "    a = initialize(x_train, x_test[i], y_train)\n",
    "    if a == y_test[i] :\n",
    "        correct+=1\n",
    "    total += 1\n",
    "    \n",
    "accuracy = correct/total\n",
    "print(accuracy)"
   ]
  },
  {
   "cell_type": "code",
   "execution_count": null,
   "id": "c4ac9fad-e041-4655-93a2-65e643f2f799",
   "metadata": {},
   "outputs": [],
   "source": []
  },
  {
   "cell_type": "code",
   "execution_count": null,
   "id": "10422fe3-45ca-4f0d-9e72-b14558901d04",
   "metadata": {},
   "outputs": [],
   "source": []
  }
 ],
 "metadata": {
  "kernelspec": {
   "display_name": "Python 3 (ipykernel)",
   "language": "python",
   "name": "python3"
  },
  "language_info": {
   "codemirror_mode": {
    "name": "ipython",
    "version": 3
   },
   "file_extension": ".py",
   "mimetype": "text/x-python",
   "name": "python",
   "nbconvert_exporter": "python",
   "pygments_lexer": "ipython3",
   "version": "3.12.9"
  }
 },
 "nbformat": 4,
 "nbformat_minor": 5
}
