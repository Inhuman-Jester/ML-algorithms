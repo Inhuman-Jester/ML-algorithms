{
 "cells": [
  {
   "cell_type": "code",
   "execution_count": 273,
   "id": "3bd5936f-fc1c-4b6b-9069-d058883e35f8",
   "metadata": {},
   "outputs": [],
   "source": [
    "import numpy as np\n",
    "import pandas as pd\n",
    "import matplotlib.pyplot as plt"
   ]
  },
  {
   "cell_type": "code",
   "execution_count": 286,
   "id": "1152834a-7a00-470f-a873-cde61b5641d5",
   "metadata": {},
   "outputs": [],
   "source": [
    "# Sigmoid function for squashing\n",
    "def sigmoid(w, X, b):\n",
    "    z = np.dot(X, w)+b\n",
    "    return 1/(1+np.exp(-z))"
   ]
  },
  {
   "cell_type": "code",
   "execution_count": 287,
   "id": "7c959340-e336-447c-8045-ba57d5821c92",
   "metadata": {},
   "outputs": [],
   "source": [
    "# Cost function\n",
    "def cost(Y, w, X, b):\n",
    "    Y_pred = sigmoid(w, X, b)\n",
    "    \n",
    "    no = (1-Y) * np.log(1.01-Y_pred)\n",
    "    yes = Y * np.log(Y_pred+0.01)\n",
    "    \n",
    "    j = np.mean(no+yes)\n",
    "    \n",
    "    return j"
   ]
  },
  {
   "cell_type": "code",
   "execution_count": 288,
   "id": "8117e8b2-b7ca-4874-a5c4-e5a9f2dfdc11",
   "metadata": {},
   "outputs": [],
   "source": [
    "# Gradient function\n",
    "def gradient(Y, w, X, b):\n",
    "    Y_pred = sigmoid(w, X, b)\n",
    "    \n",
    "    d_w = -np.mean(np.dot(X.T, Y_pred-Y))\n",
    "    d_b = -np.mean(Y-Y_pred)\n",
    "\n",
    "    return d_w, d_b"
   ]
  },
  {
   "cell_type": "code",
   "execution_count": 289,
   "id": "6910a8e6-148c-49bd-841d-a7bd703df73a",
   "metadata": {},
   "outputs": [],
   "source": [
    "# Gradient Descent\n",
    "def grad_descent(Y, w, X, b, epoch, learn_rate):\n",
    "    loss = []\n",
    "    \n",
    "    for i in range(epoch):\n",
    "        d_w, d_b = gradient(Y, w, X, b)\n",
    "        \n",
    "        w -= learn_rate*d_w\n",
    "        b -= learn_rate*d_b\n",
    "        loss.append(cost(Y, w, X, b))\n",
    "\n",
    "    return w, b, loss"
   ]
  },
  {
   "cell_type": "code",
   "execution_count": 290,
   "id": "ed3dea9e-e7d3-4d24-8797-25400dae79a3",
   "metadata": {},
   "outputs": [],
   "source": [
    "# initialize logistic regression\n",
    "\n",
    "def initialize(X, Y):\n",
    "    \n",
    "    w = np.random.randn(len(X[0]))*0.01\n",
    "    b = 0\n",
    "    learn_rate = 0.001\n",
    "    epoch = 1000\n",
    "\n",
    "    w, b, loss = grad_descent(Y, w, X, b, epoch, learn_rate)\n",
    "\n",
    "    return w, b, loss"
   ]
  },
  {
   "cell_type": "code",
   "execution_count": 291,
   "id": "5aae2c9c-bd6b-4060-a2de-d3456463693b",
   "metadata": {},
   "outputs": [
    {
     "data": {
      "text/html": [
       "<div>\n",
       "<style scoped>\n",
       "    .dataframe tbody tr th:only-of-type {\n",
       "        vertical-align: middle;\n",
       "    }\n",
       "\n",
       "    .dataframe tbody tr th {\n",
       "        vertical-align: top;\n",
       "    }\n",
       "\n",
       "    .dataframe thead th {\n",
       "        text-align: right;\n",
       "    }\n",
       "</style>\n",
       "<table border=\"1\" class=\"dataframe\">\n",
       "  <thead>\n",
       "    <tr style=\"text-align: right;\">\n",
       "      <th></th>\n",
       "      <th>User ID</th>\n",
       "      <th>Gender</th>\n",
       "      <th>Age</th>\n",
       "      <th>EstimatedSalary</th>\n",
       "      <th>Purchased</th>\n",
       "    </tr>\n",
       "  </thead>\n",
       "  <tbody>\n",
       "    <tr>\n",
       "      <th>0</th>\n",
       "      <td>15624510</td>\n",
       "      <td>Male</td>\n",
       "      <td>19</td>\n",
       "      <td>19000</td>\n",
       "      <td>0</td>\n",
       "    </tr>\n",
       "    <tr>\n",
       "      <th>1</th>\n",
       "      <td>15810944</td>\n",
       "      <td>Male</td>\n",
       "      <td>35</td>\n",
       "      <td>20000</td>\n",
       "      <td>0</td>\n",
       "    </tr>\n",
       "    <tr>\n",
       "      <th>2</th>\n",
       "      <td>15668575</td>\n",
       "      <td>Female</td>\n",
       "      <td>26</td>\n",
       "      <td>43000</td>\n",
       "      <td>0</td>\n",
       "    </tr>\n",
       "    <tr>\n",
       "      <th>3</th>\n",
       "      <td>15603246</td>\n",
       "      <td>Female</td>\n",
       "      <td>27</td>\n",
       "      <td>57000</td>\n",
       "      <td>0</td>\n",
       "    </tr>\n",
       "    <tr>\n",
       "      <th>4</th>\n",
       "      <td>15804002</td>\n",
       "      <td>Male</td>\n",
       "      <td>19</td>\n",
       "      <td>76000</td>\n",
       "      <td>0</td>\n",
       "    </tr>\n",
       "  </tbody>\n",
       "</table>\n",
       "</div>"
      ],
      "text/plain": [
       "    User ID  Gender  Age  EstimatedSalary  Purchased\n",
       "0  15624510    Male   19            19000          0\n",
       "1  15810944    Male   35            20000          0\n",
       "2  15668575  Female   26            43000          0\n",
       "3  15603246  Female   27            57000          0\n",
       "4  15804002    Male   19            76000          0"
      ]
     },
     "execution_count": 291,
     "metadata": {},
     "output_type": "execute_result"
    }
   ],
   "source": [
    "# Load dataset\n",
    "df = pd.read_csv('Social_Network_Ads.csv')\n",
    "df.head()"
   ]
  },
  {
   "cell_type": "code",
   "execution_count": 292,
   "id": "43d45b19-ca29-4991-b4c7-ab25c7a4bbf2",
   "metadata": {},
   "outputs": [],
   "source": [
    "#Extract X and Y out of dataset\n",
    "\n",
    "X = df[['Age', 'EstimatedSalary']]\n",
    "Y = df[['Purchased']]"
   ]
  },
  {
   "cell_type": "code",
   "execution_count": 293,
   "id": "bdb93230-3e29-49d5-970c-6cf707a8654c",
   "metadata": {
    "scrolled": true
   },
   "outputs": [],
   "source": [
    "# Convert dataframes to np arrays\n",
    "X = X.to_numpy().astype(np.float64)\n",
    "Y = Y.to_numpy()"
   ]
  },
  {
   "cell_type": "code",
   "execution_count": 294,
   "id": "c385c469-8a21-4a80-923c-c9c47aa8d367",
   "metadata": {
    "scrolled": true
   },
   "outputs": [],
   "source": [
    "# Normalize values of x\n",
    "X = X/X.max(axis=0)\n",
    "\n",
    "# Converting y from 2d to 1d array\n",
    "Y = Y.ravel()"
   ]
  },
  {
   "cell_type": "code",
   "execution_count": 295,
   "id": "8be2c137-9c9c-4eda-bd2a-b1d5971ba2de",
   "metadata": {
    "scrolled": true
   },
   "outputs": [],
   "source": [
    "# Calling Logistic Regression\n",
    "w, b, loss = initialize(X, Y)"
   ]
  },
  {
   "cell_type": "code",
   "execution_count": 296,
   "id": "213883cf-b972-4139-8960-41f764f80e0f",
   "metadata": {},
   "outputs": [
    {
     "data": {
      "text/plain": [
       "[<matplotlib.lines.Line2D at 0x1e2f4550740>]"
      ]
     },
     "execution_count": 296,
     "metadata": {},
     "output_type": "execute_result"
    },
    {
     "data": {
      "image/png": "[encoded data removed]",
      "text/plain": [
       "<Figure size 640x480 with 1 Axes>"
      ]
     },
     "metadata": {},
     "output_type": "display_data"
    }
   ],
   "source": [
    "# Visual representation of loss curve\n",
    "plt.plot(loss)"
   ]
  },
  {
   "cell_type": "code",
   "execution_count": null,
   "id": "793f3886-91d4-4110-8353-dc21f6fd2f6c",
   "metadata": {},
   "outputs": [],
   "source": []
  }
 ],
 "metadata": {
  "kernelspec": {
   "display_name": "Python 3 (ipykernel)",
   "language": "python",
   "name": "python3"
  },
  "language_info": {
   "codemirror_mode": {
    "name": "ipython",
    "version": 3
   },
   "file_extension": ".py",
   "mimetype": "text/x-python",
   "name": "python",
   "nbconvert_exporter": "python",
   "pygments_lexer": "ipython3",
   "version": "3.12.9"
  }
 },
 "nbformat": 4,
 "nbformat_minor": 5
}
