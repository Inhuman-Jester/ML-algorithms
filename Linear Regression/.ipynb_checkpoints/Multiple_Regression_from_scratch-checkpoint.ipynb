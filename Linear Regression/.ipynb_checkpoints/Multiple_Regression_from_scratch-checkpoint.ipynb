{
 "cells": [
  {
   "cell_type": "code",
   "execution_count": 500,
   "id": "c7e3915d-1337-45f8-9df9-9b0c52bcedb4",
   "metadata": {},
   "outputs": [],
   "source": [
    "import numpy as np\n",
    "import matplotlib.pyplot as plt\n",
    "import pandas as pd\n",
    "from sklearn.model_selection import train_test_split"
   ]
  },
  {
   "cell_type": "code",
   "execution_count": 542,
   "id": "bee870d5-0cb8-4786-82c6-6436e56dce0b",
   "metadata": {},
   "outputs": [
    {
     "data": {
      "text/html": [
       "<div>\n",
       "<style scoped>\n",
       "    .dataframe tbody tr th:only-of-type {\n",
       "        vertical-align: middle;\n",
       "    }\n",
       "\n",
       "    .dataframe tbody tr th {\n",
       "        vertical-align: top;\n",
       "    }\n",
       "\n",
       "    .dataframe thead th {\n",
       "        text-align: right;\n",
       "    }\n",
       "</style>\n",
       "<table border=\"1\" class=\"dataframe\">\n",
       "  <thead>\n",
       "    <tr style=\"text-align: right;\">\n",
       "      <th></th>\n",
       "      <th>age</th>\n",
       "      <th>experience</th>\n",
       "      <th>income</th>\n",
       "    </tr>\n",
       "  </thead>\n",
       "  <tbody>\n",
       "    <tr>\n",
       "      <th>0</th>\n",
       "      <td>25</td>\n",
       "      <td>1</td>\n",
       "      <td>30450</td>\n",
       "    </tr>\n",
       "    <tr>\n",
       "      <th>1</th>\n",
       "      <td>30</td>\n",
       "      <td>3</td>\n",
       "      <td>35670</td>\n",
       "    </tr>\n",
       "    <tr>\n",
       "      <th>2</th>\n",
       "      <td>47</td>\n",
       "      <td>2</td>\n",
       "      <td>31580</td>\n",
       "    </tr>\n",
       "    <tr>\n",
       "      <th>3</th>\n",
       "      <td>32</td>\n",
       "      <td>5</td>\n",
       "      <td>40130</td>\n",
       "    </tr>\n",
       "    <tr>\n",
       "      <th>4</th>\n",
       "      <td>43</td>\n",
       "      <td>10</td>\n",
       "      <td>47830</td>\n",
       "    </tr>\n",
       "  </tbody>\n",
       "</table>\n",
       "</div>"
      ],
      "text/plain": [
       "   age  experience  income\n",
       "0   25           1   30450\n",
       "1   30           3   35670\n",
       "2   47           2   31580\n",
       "3   32           5   40130\n",
       "4   43          10   47830"
      ]
     },
     "execution_count": 542,
     "metadata": {},
     "output_type": "execute_result"
    }
   ],
   "source": [
    "df = pd.read_csv('multiple_linear_regression_dataset.csv')\n",
    "df.head()"
   ]
  },
  {
   "cell_type": "code",
   "execution_count": 543,
   "id": "6b51b54c-c4e0-45de-bd10-a7d5ba46af66",
   "metadata": {},
   "outputs": [],
   "source": [
    "X = df.drop(columns = ['income'])\n",
    "Y = df[['income']]\n",
    "\n",
    "X = X.to_numpy()*0.01\n",
    "Y = Y.to_numpy().ravel()*0.001"
   ]
  },
  {
   "cell_type": "code",
   "execution_count": 544,
   "id": "fea9a8b5-5362-465d-9bdc-f0bd8037f4a3",
   "metadata": {},
   "outputs": [],
   "source": [
    "def initialize(X, Y):\n",
    "      \n",
    "    x_i, x_j = X.shape\n",
    "    \n",
    "    epoch = 1000\n",
    "    learn_rate = 0.01\n",
    "    \n",
    "    b = 0\n",
    "    w = np.random.randn(x_j)*0.1\n",
    "\n",
    "    w, b, loss = gradient_descent(Y, w, X, b, epoch, learn_rate)\n",
    "    \n",
    "    return w, b, loss\n",
    "    "
   ]
  },
  {
   "cell_type": "code",
   "execution_count": 545,
   "id": "781ba09d-a920-443c-a2ce-e6359a23dfae",
   "metadata": {},
   "outputs": [],
   "source": [
    "def hypothesis(w, X, b):\n",
    "    Y_pred = np.dot(X, w) + b\n",
    "    \n",
    "    return Y_pred"
   ]
  },
  {
   "cell_type": "code",
   "execution_count": 546,
   "id": "31ebbb9d-5292-4f5d-b40c-4c858405afeb",
   "metadata": {},
   "outputs": [],
   "source": [
    "def loss_func(Y, w, X, b):\n",
    "    \n",
    "    Y_pred = hypothesis(w, X, b)\n",
    "    j = np.mean((Y-Y_pred)**2)/2\n",
    "    return j"
   ]
  },
  {
   "cell_type": "code",
   "execution_count": 547,
   "id": "47bc2263-9ebd-4a6c-bbe0-b1d8a8b1c4f7",
   "metadata": {},
   "outputs": [],
   "source": [
    "def gradients(Y, w, X, b):\n",
    "    \n",
    "    Y_pred = hypothesis(w, X, b)\n",
    "    # x_i, x_j = X.shape\n",
    "    \n",
    "    d_w = -np.dot(X.T, (Y - Y_pred)) / len(X)\n",
    "    d_b = -np.mean(Y-Y_pred)\n",
    "    \n",
    "    return d_w, d_b"
   ]
  },
  {
   "cell_type": "code",
   "execution_count": 551,
   "id": "1b1f4cd6-1f6a-4f38-989a-e54448360c7b",
   "metadata": {},
   "outputs": [],
   "source": [
    "def gradient_descent(Y, w, X, b, epoch, learn_rate):\n",
    "    loss = []\n",
    "    \n",
    "    for i in range(epoch):\n",
    "        loss.append(loss_func(Y, w, X, b))\n",
    "        d_w, d_b = gradients(Y, w, X, b)\n",
    "        \n",
    "        w -= learn_rate * d_w\n",
    "        b -= learn_rate * d_b\n",
    "\n",
    "    return w, b, loss"
   ]
  },
  {
   "cell_type": "code",
   "execution_count": 552,
   "id": "ccc348cb-9e7c-452e-8406-12ec2a4e5d49",
   "metadata": {
    "scrolled": true
   },
   "outputs": [],
   "source": [
    "w, b, loss = initialize(X, Y)"
   ]
  },
  {
   "cell_type": "code",
   "execution_count": 553,
   "id": "314169e4-d3c5-476e-82a8-ee8a7cf53837",
   "metadata": {},
   "outputs": [
    {
     "data": {
      "text/plain": [
       "[<matplotlib.lines.Line2D at 0x239cbc27dd0>]"
      ]
     },
     "execution_count": 553,
     "metadata": {},
     "output_type": "execute_result"
    },
    {
     "data": {
      "image/png": "[encoded data removed]",
      "text/plain": [
       "<Figure size 640x480 with 1 Axes>"
      ]
     },
     "metadata": {},
     "output_type": "display_data"
    }
   ],
   "source": [
    "plt.plot(loss)"
   ]
  },
  {
   "cell_type": "code",
   "execution_count": null,
   "id": "c1a28d11-2f48-4d04-8983-6aa7602fe3ec",
   "metadata": {},
   "outputs": [],
   "source": []
  }
 ],
 "metadata": {
  "kernelspec": {
   "display_name": "Python 3 (ipykernel)",
   "language": "python",
   "name": "python3"
  },
  "language_info": {
   "codemirror_mode": {
    "name": "ipython",
    "version": 3
   },
   "file_extension": ".py",
   "mimetype": "text/x-python",
   "name": "python",
   "nbconvert_exporter": "python",
   "pygments_lexer": "ipython3",
   "version": "3.12.9"
  }
 },
 "nbformat": 4,
 "nbformat_minor": 5
}
